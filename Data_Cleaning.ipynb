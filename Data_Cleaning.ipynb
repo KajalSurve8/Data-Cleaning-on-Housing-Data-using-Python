{
 "cells": [
  {
   "cell_type": "code",
   "execution_count": 121,
   "metadata": {},
   "outputs": [],
   "source": [
    "import pandas as pd"
   ]
  },
  {
   "cell_type": "code",
   "execution_count": 122,
   "metadata": {},
   "outputs": [
    {
     "data": {
      "text/html": [
       "<div>\n",
       "<style scoped>\n",
       "    .dataframe tbody tr th:only-of-type {\n",
       "        vertical-align: middle;\n",
       "    }\n",
       "\n",
       "    .dataframe tbody tr th {\n",
       "        vertical-align: top;\n",
       "    }\n",
       "\n",
       "    .dataframe thead th {\n",
       "        text-align: right;\n",
       "    }\n",
       "</style>\n",
       "<table border=\"1\" class=\"dataframe\">\n",
       "  <thead>\n",
       "    <tr style=\"text-align: right;\">\n",
       "      <th></th>\n",
       "      <th>UniqueID</th>\n",
       "      <th>ParcelID</th>\n",
       "      <th>LandUse</th>\n",
       "      <th>PropertyAddress</th>\n",
       "      <th>SaleDate</th>\n",
       "      <th>SalePrice</th>\n",
       "      <th>LegalReference</th>\n",
       "      <th>SoldAsVacant</th>\n",
       "      <th>OwnerName</th>\n",
       "      <th>OwnerAddress</th>\n",
       "      <th>Acreage</th>\n",
       "      <th>TaxDistrict</th>\n",
       "      <th>LandValue</th>\n",
       "      <th>BuildingValue</th>\n",
       "      <th>TotalValue</th>\n",
       "      <th>YearBuilt</th>\n",
       "      <th>Bedrooms</th>\n",
       "      <th>FullBath</th>\n",
       "      <th>HalfBath</th>\n",
       "    </tr>\n",
       "  </thead>\n",
       "  <tbody>\n",
       "    <tr>\n",
       "      <th>0</th>\n",
       "      <td>2045</td>\n",
       "      <td>007 00 0 125.00</td>\n",
       "      <td>SINGLE FAMILY</td>\n",
       "      <td>1808  FOX CHASE DR, GOODLETTSVILLE</td>\n",
       "      <td>9-Apr-13</td>\n",
       "      <td>240000</td>\n",
       "      <td>20130412-0036474</td>\n",
       "      <td>No</td>\n",
       "      <td>FRAZIER, CYRENTHA LYNETTE</td>\n",
       "      <td>1808  FOX CHASE DR, GOODLETTSVILLE, TN</td>\n",
       "      <td>2.3</td>\n",
       "      <td>GENERAL SERVICES DISTRICT</td>\n",
       "      <td>50000.0</td>\n",
       "      <td>168200.0</td>\n",
       "      <td>235700.0</td>\n",
       "      <td>1986.0</td>\n",
       "      <td>3.0</td>\n",
       "      <td>3.0</td>\n",
       "      <td>0.0</td>\n",
       "    </tr>\n",
       "    <tr>\n",
       "      <th>1</th>\n",
       "      <td>16918</td>\n",
       "      <td>007 00 0 130.00</td>\n",
       "      <td>SINGLE FAMILY</td>\n",
       "      <td>1832  FOX CHASE DR, GOODLETTSVILLE</td>\n",
       "      <td>10-Jun-14</td>\n",
       "      <td>366000</td>\n",
       "      <td>20140619-0053768</td>\n",
       "      <td>No</td>\n",
       "      <td>BONER, CHARLES &amp; LESLIE</td>\n",
       "      <td>1832  FOX CHASE DR, GOODLETTSVILLE, TN</td>\n",
       "      <td>3.5</td>\n",
       "      <td>GENERAL SERVICES DISTRICT</td>\n",
       "      <td>50000.0</td>\n",
       "      <td>264100.0</td>\n",
       "      <td>319000.0</td>\n",
       "      <td>1998.0</td>\n",
       "      <td>3.0</td>\n",
       "      <td>3.0</td>\n",
       "      <td>2.0</td>\n",
       "    </tr>\n",
       "  </tbody>\n",
       "</table>\n",
       "</div>"
      ],
      "text/plain": [
       "   UniqueID          ParcelID        LandUse  \\\n",
       "0       2045  007 00 0 125.00  SINGLE FAMILY   \n",
       "1      16918  007 00 0 130.00  SINGLE FAMILY   \n",
       "\n",
       "                      PropertyAddress   SaleDate SalePrice    LegalReference  \\\n",
       "0  1808  FOX CHASE DR, GOODLETTSVILLE   9-Apr-13    240000  20130412-0036474   \n",
       "1  1832  FOX CHASE DR, GOODLETTSVILLE  10-Jun-14    366000  20140619-0053768   \n",
       "\n",
       "  SoldAsVacant                  OwnerName  \\\n",
       "0           No  FRAZIER, CYRENTHA LYNETTE   \n",
       "1           No    BONER, CHARLES & LESLIE   \n",
       "\n",
       "                             OwnerAddress  Acreage                TaxDistrict  \\\n",
       "0  1808  FOX CHASE DR, GOODLETTSVILLE, TN      2.3  GENERAL SERVICES DISTRICT   \n",
       "1  1832  FOX CHASE DR, GOODLETTSVILLE, TN      3.5  GENERAL SERVICES DISTRICT   \n",
       "\n",
       "   LandValue  BuildingValue  TotalValue  YearBuilt  Bedrooms  FullBath  \\\n",
       "0    50000.0       168200.0    235700.0     1986.0       3.0       3.0   \n",
       "1    50000.0       264100.0    319000.0     1998.0       3.0       3.0   \n",
       "\n",
       "   HalfBath  \n",
       "0       0.0  \n",
       "1       2.0  "
      ]
     },
     "execution_count": 122,
     "metadata": {},
     "output_type": "execute_result"
    }
   ],
   "source": [
    "dataset = pd.read_csv('Nashville Housing Data for Data Cleaning.csv')\n",
    "dataset.head(2)"
   ]
  },
  {
   "cell_type": "code",
   "execution_count": 123,
   "metadata": {},
   "outputs": [
    {
     "data": {
      "text/plain": [
       "(56477, 19)"
      ]
     },
     "execution_count": 123,
     "metadata": {},
     "output_type": "execute_result"
    }
   ],
   "source": [
    "dataset.shape"
   ]
  },
  {
   "cell_type": "code",
   "execution_count": 124,
   "metadata": {},
   "outputs": [
    {
     "name": "stdout",
     "output_type": "stream",
     "text": [
      "<class 'pandas.core.frame.DataFrame'>\n",
      "RangeIndex: 56477 entries, 0 to 56476\n",
      "Data columns (total 19 columns):\n",
      " #   Column           Non-Null Count  Dtype  \n",
      "---  ------           --------------  -----  \n",
      " 0   UniqueID         56477 non-null  int64  \n",
      " 1   ParcelID         56477 non-null  object \n",
      " 2   LandUse          56477 non-null  object \n",
      " 3   PropertyAddress  56448 non-null  object \n",
      " 4   SaleDate         56477 non-null  object \n",
      " 5   SalePrice        56477 non-null  object \n",
      " 6   LegalReference   56477 non-null  object \n",
      " 7   SoldAsVacant     56477 non-null  object \n",
      " 8   OwnerName        25261 non-null  object \n",
      " 9   OwnerAddress     26015 non-null  object \n",
      " 10  Acreage          26015 non-null  float64\n",
      " 11  TaxDistrict      26015 non-null  object \n",
      " 12  LandValue        26015 non-null  float64\n",
      " 13  BuildingValue    26015 non-null  float64\n",
      " 14  TotalValue       26015 non-null  float64\n",
      " 15  YearBuilt        24163 non-null  float64\n",
      " 16  Bedrooms         24157 non-null  float64\n",
      " 17  FullBath         24275 non-null  float64\n",
      " 18  HalfBath         24144 non-null  float64\n",
      "dtypes: float64(8), int64(1), object(10)\n",
      "memory usage: 8.2+ MB\n"
     ]
    }
   ],
   "source": [
    "# To know the data type\n",
    "dataset.info()"
   ]
  },
  {
   "cell_type": "code",
   "execution_count": 125,
   "metadata": {},
   "outputs": [
    {
     "data": {
      "text/plain": [
       "UniqueID            0.000000\n",
       "ParcelID            0.000000\n",
       "LandUse             0.000000\n",
       "PropertyAddress     0.051348\n",
       "SaleDate            0.000000\n",
       "SalePrice           0.000000\n",
       "LegalReference      0.000000\n",
       "SoldAsVacant        0.000000\n",
       "OwnerName          55.272058\n",
       "OwnerAddress       53.937001\n",
       "Acreage            53.937001\n",
       "TaxDistrict        53.937001\n",
       "LandValue          53.937001\n",
       "BuildingValue      53.937001\n",
       "TotalValue         53.937001\n",
       "YearBuilt          57.216212\n",
       "Bedrooms           57.226836\n",
       "FullBath           57.017901\n",
       "HalfBath           57.249854\n",
       "dtype: float64"
      ]
     },
     "execution_count": 125,
     "metadata": {},
     "output_type": "execute_result"
    }
   ],
   "source": [
    "# Total missing values in percentage\n",
    "(dataset.isnull().sum()/dataset.shape[0])*100"
   ]
  },
  {
   "cell_type": "code",
   "execution_count": 126,
   "metadata": {},
   "outputs": [],
   "source": [
    "dataset.dropna(inplace=True)"
   ]
  },
  {
   "cell_type": "code",
   "execution_count": 127,
   "metadata": {},
   "outputs": [
    {
     "data": {
      "text/plain": [
       "(23705, 19)"
      ]
     },
     "execution_count": 127,
     "metadata": {},
     "output_type": "execute_result"
    }
   ],
   "source": [
    "dataset.shape"
   ]
  },
  {
   "cell_type": "code",
   "execution_count": 128,
   "metadata": {},
   "outputs": [
    {
     "data": {
      "text/plain": [
       "UniqueID           0\n",
       "ParcelID           0\n",
       "LandUse            0\n",
       "PropertyAddress    0\n",
       "SaleDate           0\n",
       "SalePrice          0\n",
       "LegalReference     0\n",
       "SoldAsVacant       0\n",
       "OwnerName          0\n",
       "OwnerAddress       0\n",
       "Acreage            0\n",
       "TaxDistrict        0\n",
       "LandValue          0\n",
       "BuildingValue      0\n",
       "TotalValue         0\n",
       "YearBuilt          0\n",
       "Bedrooms           0\n",
       "FullBath           0\n",
       "HalfBath           0\n",
       "dtype: int64"
      ]
     },
     "execution_count": 128,
     "metadata": {},
     "output_type": "execute_result"
    }
   ],
   "source": [
    "dataset.isnull().sum()"
   ]
  },
  {
   "cell_type": "markdown",
   "metadata": {},
   "source": [
    "PropertyAddress (Splitting this column into PropertyAddress and PropertyCity)"
   ]
  },
  {
   "cell_type": "code",
   "execution_count": 129,
   "metadata": {},
   "outputs": [],
   "source": [
    "dataset[['PropertySplitAddress', 'PropertySplitCity']] = dataset['PropertyAddress'].str.split(',', expand=True) # expand=True ensures the result is split into separate columns\n",
    "dataset.drop(columns=['PropertyAddress'], inplace=True)"
   ]
  },
  {
   "cell_type": "code",
   "execution_count": 130,
   "metadata": {},
   "outputs": [
    {
     "data": {
      "text/html": [
       "<div>\n",
       "<style scoped>\n",
       "    .dataframe tbody tr th:only-of-type {\n",
       "        vertical-align: middle;\n",
       "    }\n",
       "\n",
       "    .dataframe tbody tr th {\n",
       "        vertical-align: top;\n",
       "    }\n",
       "\n",
       "    .dataframe thead th {\n",
       "        text-align: right;\n",
       "    }\n",
       "</style>\n",
       "<table border=\"1\" class=\"dataframe\">\n",
       "  <thead>\n",
       "    <tr style=\"text-align: right;\">\n",
       "      <th></th>\n",
       "      <th>UniqueID</th>\n",
       "      <th>ParcelID</th>\n",
       "      <th>LandUse</th>\n",
       "      <th>SaleDate</th>\n",
       "      <th>SalePrice</th>\n",
       "      <th>LegalReference</th>\n",
       "      <th>SoldAsVacant</th>\n",
       "      <th>OwnerName</th>\n",
       "      <th>OwnerAddress</th>\n",
       "      <th>Acreage</th>\n",
       "      <th>TaxDistrict</th>\n",
       "      <th>LandValue</th>\n",
       "      <th>BuildingValue</th>\n",
       "      <th>TotalValue</th>\n",
       "      <th>YearBuilt</th>\n",
       "      <th>Bedrooms</th>\n",
       "      <th>FullBath</th>\n",
       "      <th>HalfBath</th>\n",
       "      <th>PropertySplitAddress</th>\n",
       "      <th>PropertySplitCity</th>\n",
       "    </tr>\n",
       "  </thead>\n",
       "  <tbody>\n",
       "    <tr>\n",
       "      <th>0</th>\n",
       "      <td>2045</td>\n",
       "      <td>007 00 0 125.00</td>\n",
       "      <td>SINGLE FAMILY</td>\n",
       "      <td>9-Apr-13</td>\n",
       "      <td>240000</td>\n",
       "      <td>20130412-0036474</td>\n",
       "      <td>No</td>\n",
       "      <td>FRAZIER, CYRENTHA LYNETTE</td>\n",
       "      <td>1808  FOX CHASE DR, GOODLETTSVILLE, TN</td>\n",
       "      <td>2.3</td>\n",
       "      <td>GENERAL SERVICES DISTRICT</td>\n",
       "      <td>50000.0</td>\n",
       "      <td>168200.0</td>\n",
       "      <td>235700.0</td>\n",
       "      <td>1986.0</td>\n",
       "      <td>3.0</td>\n",
       "      <td>3.0</td>\n",
       "      <td>0.0</td>\n",
       "      <td>1808  FOX CHASE DR</td>\n",
       "      <td>GOODLETTSVILLE</td>\n",
       "    </tr>\n",
       "  </tbody>\n",
       "</table>\n",
       "</div>"
      ],
      "text/plain": [
       "   UniqueID          ParcelID        LandUse  SaleDate SalePrice  \\\n",
       "0       2045  007 00 0 125.00  SINGLE FAMILY  9-Apr-13    240000   \n",
       "\n",
       "     LegalReference SoldAsVacant                  OwnerName  \\\n",
       "0  20130412-0036474           No  FRAZIER, CYRENTHA LYNETTE   \n",
       "\n",
       "                             OwnerAddress  Acreage                TaxDistrict  \\\n",
       "0  1808  FOX CHASE DR, GOODLETTSVILLE, TN      2.3  GENERAL SERVICES DISTRICT   \n",
       "\n",
       "   LandValue  BuildingValue  TotalValue  YearBuilt  Bedrooms  FullBath  \\\n",
       "0    50000.0       168200.0    235700.0     1986.0       3.0       3.0   \n",
       "\n",
       "   HalfBath PropertySplitAddress PropertySplitCity  \n",
       "0       0.0   1808  FOX CHASE DR    GOODLETTSVILLE  "
      ]
     },
     "execution_count": 130,
     "metadata": {},
     "output_type": "execute_result"
    }
   ],
   "source": [
    "dataset.head(1)"
   ]
  },
  {
   "cell_type": "code",
   "execution_count": 131,
   "metadata": {},
   "outputs": [],
   "source": [
    "# Replace 'PropertyAddress' column with 'PropertySplitAddress' and 'PropertySplitCity' in the position of 'PropertyAddress' column\n",
    "cols = list(dataset.columns.values)\n",
    "dataset = dataset[cols[0:3] + [cols[-2]] + [cols[-1]] + cols[3:18]]"
   ]
  },
  {
   "cell_type": "code",
   "execution_count": 132,
   "metadata": {},
   "outputs": [
    {
     "data": {
      "text/html": [
       "<div>\n",
       "<style scoped>\n",
       "    .dataframe tbody tr th:only-of-type {\n",
       "        vertical-align: middle;\n",
       "    }\n",
       "\n",
       "    .dataframe tbody tr th {\n",
       "        vertical-align: top;\n",
       "    }\n",
       "\n",
       "    .dataframe thead th {\n",
       "        text-align: right;\n",
       "    }\n",
       "</style>\n",
       "<table border=\"1\" class=\"dataframe\">\n",
       "  <thead>\n",
       "    <tr style=\"text-align: right;\">\n",
       "      <th></th>\n",
       "      <th>UniqueID</th>\n",
       "      <th>ParcelID</th>\n",
       "      <th>LandUse</th>\n",
       "      <th>PropertySplitAddress</th>\n",
       "      <th>PropertySplitCity</th>\n",
       "      <th>SaleDate</th>\n",
       "      <th>SalePrice</th>\n",
       "      <th>LegalReference</th>\n",
       "      <th>SoldAsVacant</th>\n",
       "      <th>OwnerName</th>\n",
       "      <th>OwnerAddress</th>\n",
       "      <th>Acreage</th>\n",
       "      <th>TaxDistrict</th>\n",
       "      <th>LandValue</th>\n",
       "      <th>BuildingValue</th>\n",
       "      <th>TotalValue</th>\n",
       "      <th>YearBuilt</th>\n",
       "      <th>Bedrooms</th>\n",
       "      <th>FullBath</th>\n",
       "      <th>HalfBath</th>\n",
       "    </tr>\n",
       "  </thead>\n",
       "  <tbody>\n",
       "    <tr>\n",
       "      <th>0</th>\n",
       "      <td>2045</td>\n",
       "      <td>007 00 0 125.00</td>\n",
       "      <td>SINGLE FAMILY</td>\n",
       "      <td>1808  FOX CHASE DR</td>\n",
       "      <td>GOODLETTSVILLE</td>\n",
       "      <td>9-Apr-13</td>\n",
       "      <td>240000</td>\n",
       "      <td>20130412-0036474</td>\n",
       "      <td>No</td>\n",
       "      <td>FRAZIER, CYRENTHA LYNETTE</td>\n",
       "      <td>1808  FOX CHASE DR, GOODLETTSVILLE, TN</td>\n",
       "      <td>2.3</td>\n",
       "      <td>GENERAL SERVICES DISTRICT</td>\n",
       "      <td>50000.0</td>\n",
       "      <td>168200.0</td>\n",
       "      <td>235700.0</td>\n",
       "      <td>1986.0</td>\n",
       "      <td>3.0</td>\n",
       "      <td>3.0</td>\n",
       "      <td>0.0</td>\n",
       "    </tr>\n",
       "  </tbody>\n",
       "</table>\n",
       "</div>"
      ],
      "text/plain": [
       "   UniqueID          ParcelID        LandUse PropertySplitAddress  \\\n",
       "0       2045  007 00 0 125.00  SINGLE FAMILY   1808  FOX CHASE DR   \n",
       "\n",
       "  PropertySplitCity  SaleDate SalePrice    LegalReference SoldAsVacant  \\\n",
       "0    GOODLETTSVILLE  9-Apr-13    240000  20130412-0036474           No   \n",
       "\n",
       "                   OwnerName                            OwnerAddress  Acreage  \\\n",
       "0  FRAZIER, CYRENTHA LYNETTE  1808  FOX CHASE DR, GOODLETTSVILLE, TN      2.3   \n",
       "\n",
       "                 TaxDistrict  LandValue  BuildingValue  TotalValue  YearBuilt  \\\n",
       "0  GENERAL SERVICES DISTRICT    50000.0       168200.0    235700.0     1986.0   \n",
       "\n",
       "   Bedrooms  FullBath  HalfBath  \n",
       "0       3.0       3.0       0.0  "
      ]
     },
     "execution_count": 132,
     "metadata": {},
     "output_type": "execute_result"
    }
   ],
   "source": [
    "dataset.head(1)"
   ]
  },
  {
   "cell_type": "markdown",
   "metadata": {},
   "source": [
    "SaleDate (Converting the datatype from object to datetime)"
   ]
  },
  {
   "cell_type": "code",
   "execution_count": 133,
   "metadata": {},
   "outputs": [
    {
     "name": "stderr",
     "output_type": "stream",
     "text": [
      "C:\\Users\\DELL\\AppData\\Local\\Temp\\ipykernel_1780\\2023744684.py:1: UserWarning: Could not infer format, so each element will be parsed individually, falling back to `dateutil`. To ensure parsing is consistent and as-expected, please specify a format.\n",
      "  dataset['SaleDate'] = pd.to_datetime(dataset['SaleDate'])\n"
     ]
    }
   ],
   "source": [
    "dataset['SaleDate'] = pd.to_datetime(dataset['SaleDate'])"
   ]
  },
  {
   "cell_type": "code",
   "execution_count": 134,
   "metadata": {},
   "outputs": [
    {
     "name": "stdout",
     "output_type": "stream",
     "text": [
      "datetime64[ns]\n"
     ]
    }
   ],
   "source": [
    "print(dataset['SaleDate'].dtype)"
   ]
  },
  {
   "cell_type": "code",
   "execution_count": 135,
   "metadata": {},
   "outputs": [
    {
     "name": "stdout",
     "output_type": "stream",
     "text": [
      "0       2013-04-09\n",
      "1       2014-06-10\n",
      "2       2016-09-26\n",
      "3       2016-01-29\n",
      "4       2014-10-10\n",
      "           ...    \n",
      "54210   2016-07-08\n",
      "54211   2015-07-27\n",
      "54212   2014-09-05\n",
      "54213   2014-11-24\n",
      "54214   2014-11-12\n",
      "Name: SaleDate, Length: 23705, dtype: datetime64[ns]\n"
     ]
    }
   ],
   "source": [
    "print(dataset['SaleDate'])"
   ]
  },
  {
   "cell_type": "markdown",
   "metadata": {},
   "source": [
    "SalePrice (Converting the datatype from object to float)"
   ]
  },
  {
   "cell_type": "code",
   "execution_count": 136,
   "metadata": {},
   "outputs": [],
   "source": [
    "import re\n",
    "dataset['SalePrice'] = dataset['SalePrice'].str.replace('[$,]', '', regex=True).str.strip() #regex is used because it firstly identify the pattern ($, ,) and clean it, instead of directly converting to numeric type"
   ]
  },
  {
   "cell_type": "code",
   "execution_count": 137,
   "metadata": {},
   "outputs": [],
   "source": [
    "dataset['SalePrice'] = pd.to_numeric(dataset['SalePrice']).astype(float)"
   ]
  },
  {
   "cell_type": "code",
   "execution_count": 138,
   "metadata": {},
   "outputs": [
    {
     "name": "stdout",
     "output_type": "stream",
     "text": [
      "float64\n"
     ]
    }
   ],
   "source": [
    "print(dataset['SalePrice'].dtype)"
   ]
  },
  {
   "cell_type": "markdown",
   "metadata": {},
   "source": [
    "SoldAsVacant (Replace 'Yes' with 'Y' and 'No' with 'N')"
   ]
  },
  {
   "cell_type": "code",
   "execution_count": 139,
   "metadata": {},
   "outputs": [],
   "source": [
    "dataset['SoldAsVacant'] = dataset['SoldAsVacant'].replace({'Yes': 'Y', 'No': 'N'})"
   ]
  },
  {
   "cell_type": "code",
   "execution_count": 140,
   "metadata": {},
   "outputs": [
    {
     "name": "stdout",
     "output_type": "stream",
     "text": [
      "0        N\n",
      "1        N\n",
      "2        N\n",
      "3        N\n",
      "4        N\n",
      "        ..\n",
      "54210    N\n",
      "54211    N\n",
      "54212    N\n",
      "54213    N\n",
      "54214    N\n",
      "Name: SoldAsVacant, Length: 23705, dtype: object\n"
     ]
    }
   ],
   "source": [
    "print(dataset['SoldAsVacant'])"
   ]
  },
  {
   "cell_type": "markdown",
   "metadata": {},
   "source": [
    "OwnerAddress (Splitting this column into OwnerSplitAddress, OwnerSplitCity, and OwnerSplitState)"
   ]
  },
  {
   "cell_type": "code",
   "execution_count": 141,
   "metadata": {},
   "outputs": [],
   "source": [
    "dataset[['OwnerSplitAddress', 'OwnerSplitCity', 'OwnerSplitState']] = dataset['OwnerAddress'].str.split(',', expand=True)\n",
    "dataset.drop(columns=['OwnerAddress'], inplace=True)"
   ]
  },
  {
   "cell_type": "code",
   "execution_count": 142,
   "metadata": {},
   "outputs": [
    {
     "data": {
      "text/html": [
       "<div>\n",
       "<style scoped>\n",
       "    .dataframe tbody tr th:only-of-type {\n",
       "        vertical-align: middle;\n",
       "    }\n",
       "\n",
       "    .dataframe tbody tr th {\n",
       "        vertical-align: top;\n",
       "    }\n",
       "\n",
       "    .dataframe thead th {\n",
       "        text-align: right;\n",
       "    }\n",
       "</style>\n",
       "<table border=\"1\" class=\"dataframe\">\n",
       "  <thead>\n",
       "    <tr style=\"text-align: right;\">\n",
       "      <th></th>\n",
       "      <th>UniqueID</th>\n",
       "      <th>ParcelID</th>\n",
       "      <th>LandUse</th>\n",
       "      <th>PropertySplitAddress</th>\n",
       "      <th>PropertySplitCity</th>\n",
       "      <th>SaleDate</th>\n",
       "      <th>SalePrice</th>\n",
       "      <th>LegalReference</th>\n",
       "      <th>SoldAsVacant</th>\n",
       "      <th>OwnerName</th>\n",
       "      <th>...</th>\n",
       "      <th>LandValue</th>\n",
       "      <th>BuildingValue</th>\n",
       "      <th>TotalValue</th>\n",
       "      <th>YearBuilt</th>\n",
       "      <th>Bedrooms</th>\n",
       "      <th>FullBath</th>\n",
       "      <th>HalfBath</th>\n",
       "      <th>OwnerSplitAddress</th>\n",
       "      <th>OwnerSplitCity</th>\n",
       "      <th>OwnerSplitState</th>\n",
       "    </tr>\n",
       "  </thead>\n",
       "  <tbody>\n",
       "    <tr>\n",
       "      <th>0</th>\n",
       "      <td>2045</td>\n",
       "      <td>007 00 0 125.00</td>\n",
       "      <td>SINGLE FAMILY</td>\n",
       "      <td>1808  FOX CHASE DR</td>\n",
       "      <td>GOODLETTSVILLE</td>\n",
       "      <td>2013-04-09</td>\n",
       "      <td>240000.0</td>\n",
       "      <td>20130412-0036474</td>\n",
       "      <td>N</td>\n",
       "      <td>FRAZIER, CYRENTHA LYNETTE</td>\n",
       "      <td>...</td>\n",
       "      <td>50000.0</td>\n",
       "      <td>168200.0</td>\n",
       "      <td>235700.0</td>\n",
       "      <td>1986.0</td>\n",
       "      <td>3.0</td>\n",
       "      <td>3.0</td>\n",
       "      <td>0.0</td>\n",
       "      <td>1808  FOX CHASE DR</td>\n",
       "      <td>GOODLETTSVILLE</td>\n",
       "      <td>TN</td>\n",
       "    </tr>\n",
       "  </tbody>\n",
       "</table>\n",
       "<p>1 rows × 22 columns</p>\n",
       "</div>"
      ],
      "text/plain": [
       "   UniqueID          ParcelID        LandUse PropertySplitAddress  \\\n",
       "0       2045  007 00 0 125.00  SINGLE FAMILY   1808  FOX CHASE DR   \n",
       "\n",
       "  PropertySplitCity   SaleDate  SalePrice    LegalReference SoldAsVacant  \\\n",
       "0    GOODLETTSVILLE 2013-04-09   240000.0  20130412-0036474            N   \n",
       "\n",
       "                   OwnerName  ...  LandValue BuildingValue  TotalValue  \\\n",
       "0  FRAZIER, CYRENTHA LYNETTE  ...    50000.0      168200.0    235700.0   \n",
       "\n",
       "   YearBuilt  Bedrooms  FullBath  HalfBath   OwnerSplitAddress  \\\n",
       "0     1986.0       3.0       3.0       0.0  1808  FOX CHASE DR   \n",
       "\n",
       "    OwnerSplitCity OwnerSplitState  \n",
       "0   GOODLETTSVILLE              TN  \n",
       "\n",
       "[1 rows x 22 columns]"
      ]
     },
     "execution_count": 142,
     "metadata": {},
     "output_type": "execute_result"
    }
   ],
   "source": [
    "dataset.head(1)"
   ]
  },
  {
   "cell_type": "code",
   "execution_count": 143,
   "metadata": {},
   "outputs": [],
   "source": [
    "# Replace 'OwnerAddress' column with 'OwnerSplitAddress', 'OwnerSplitCity', 'OwnerSplitState' in the position of 'OwnerAddress' column\n",
    "cols = list(dataset.columns.values)\n",
    "dataset = dataset[cols[0:10] + [cols[-3]] + [cols[-2]] + [cols[-1]] + cols[10:19]]"
   ]
  },
  {
   "cell_type": "code",
   "execution_count": 144,
   "metadata": {},
   "outputs": [
    {
     "data": {
      "text/html": [
       "<div>\n",
       "<style scoped>\n",
       "    .dataframe tbody tr th:only-of-type {\n",
       "        vertical-align: middle;\n",
       "    }\n",
       "\n",
       "    .dataframe tbody tr th {\n",
       "        vertical-align: top;\n",
       "    }\n",
       "\n",
       "    .dataframe thead th {\n",
       "        text-align: right;\n",
       "    }\n",
       "</style>\n",
       "<table border=\"1\" class=\"dataframe\">\n",
       "  <thead>\n",
       "    <tr style=\"text-align: right;\">\n",
       "      <th></th>\n",
       "      <th>UniqueID</th>\n",
       "      <th>ParcelID</th>\n",
       "      <th>LandUse</th>\n",
       "      <th>PropertySplitAddress</th>\n",
       "      <th>PropertySplitCity</th>\n",
       "      <th>SaleDate</th>\n",
       "      <th>SalePrice</th>\n",
       "      <th>LegalReference</th>\n",
       "      <th>SoldAsVacant</th>\n",
       "      <th>OwnerName</th>\n",
       "      <th>...</th>\n",
       "      <th>OwnerSplitState</th>\n",
       "      <th>Acreage</th>\n",
       "      <th>TaxDistrict</th>\n",
       "      <th>LandValue</th>\n",
       "      <th>BuildingValue</th>\n",
       "      <th>TotalValue</th>\n",
       "      <th>YearBuilt</th>\n",
       "      <th>Bedrooms</th>\n",
       "      <th>FullBath</th>\n",
       "      <th>HalfBath</th>\n",
       "    </tr>\n",
       "  </thead>\n",
       "  <tbody>\n",
       "    <tr>\n",
       "      <th>0</th>\n",
       "      <td>2045</td>\n",
       "      <td>007 00 0 125.00</td>\n",
       "      <td>SINGLE FAMILY</td>\n",
       "      <td>1808  FOX CHASE DR</td>\n",
       "      <td>GOODLETTSVILLE</td>\n",
       "      <td>2013-04-09</td>\n",
       "      <td>240000.0</td>\n",
       "      <td>20130412-0036474</td>\n",
       "      <td>N</td>\n",
       "      <td>FRAZIER, CYRENTHA LYNETTE</td>\n",
       "      <td>...</td>\n",
       "      <td>TN</td>\n",
       "      <td>2.3</td>\n",
       "      <td>GENERAL SERVICES DISTRICT</td>\n",
       "      <td>50000.0</td>\n",
       "      <td>168200.0</td>\n",
       "      <td>235700.0</td>\n",
       "      <td>1986.0</td>\n",
       "      <td>3.0</td>\n",
       "      <td>3.0</td>\n",
       "      <td>0.0</td>\n",
       "    </tr>\n",
       "  </tbody>\n",
       "</table>\n",
       "<p>1 rows × 22 columns</p>\n",
       "</div>"
      ],
      "text/plain": [
       "   UniqueID          ParcelID        LandUse PropertySplitAddress  \\\n",
       "0       2045  007 00 0 125.00  SINGLE FAMILY   1808  FOX CHASE DR   \n",
       "\n",
       "  PropertySplitCity   SaleDate  SalePrice    LegalReference SoldAsVacant  \\\n",
       "0    GOODLETTSVILLE 2013-04-09   240000.0  20130412-0036474            N   \n",
       "\n",
       "                   OwnerName  ... OwnerSplitState Acreage  \\\n",
       "0  FRAZIER, CYRENTHA LYNETTE  ...              TN     2.3   \n",
       "\n",
       "                 TaxDistrict  LandValue BuildingValue  TotalValue  YearBuilt  \\\n",
       "0  GENERAL SERVICES DISTRICT    50000.0      168200.0    235700.0     1986.0   \n",
       "\n",
       "   Bedrooms  FullBath  HalfBath  \n",
       "0       3.0       3.0       0.0  \n",
       "\n",
       "[1 rows x 22 columns]"
      ]
     },
     "execution_count": 144,
     "metadata": {},
     "output_type": "execute_result"
    }
   ],
   "source": [
    "dataset.head(1)"
   ]
  },
  {
   "cell_type": "markdown",
   "metadata": {},
   "source": [
    "YearBuilt (Converting the datatype from float to int)"
   ]
  },
  {
   "cell_type": "code",
   "execution_count": 145,
   "metadata": {},
   "outputs": [],
   "source": [
    "dataset['YearBuilt'] = pd.to_numeric(dataset['YearBuilt']).astype(int)"
   ]
  },
  {
   "cell_type": "code",
   "execution_count": 146,
   "metadata": {},
   "outputs": [
    {
     "name": "stdout",
     "output_type": "stream",
     "text": [
      "int32\n"
     ]
    }
   ],
   "source": [
    "print(dataset['YearBuilt'].dtype)"
   ]
  },
  {
   "cell_type": "markdown",
   "metadata": {},
   "source": [
    "Bedrooms (Converting the datatype from float to int)"
   ]
  },
  {
   "cell_type": "code",
   "execution_count": 147,
   "metadata": {},
   "outputs": [],
   "source": [
    "dataset['Bedrooms'] = pd.to_numeric(dataset['Bedrooms']).astype(int)"
   ]
  },
  {
   "cell_type": "code",
   "execution_count": 148,
   "metadata": {},
   "outputs": [
    {
     "name": "stdout",
     "output_type": "stream",
     "text": [
      "int32\n"
     ]
    }
   ],
   "source": [
    "print(dataset['Bedrooms'].dtype)"
   ]
  },
  {
   "cell_type": "markdown",
   "metadata": {},
   "source": [
    "FullBath (Converting the datatype from float to int)"
   ]
  },
  {
   "cell_type": "code",
   "execution_count": 149,
   "metadata": {},
   "outputs": [],
   "source": [
    "dataset['FullBath'] = pd.to_numeric(dataset['FullBath']).astype(int)"
   ]
  },
  {
   "cell_type": "code",
   "execution_count": 150,
   "metadata": {},
   "outputs": [
    {
     "name": "stdout",
     "output_type": "stream",
     "text": [
      "int32\n"
     ]
    }
   ],
   "source": [
    "print(dataset['FullBath'].dtype)"
   ]
  },
  {
   "cell_type": "markdown",
   "metadata": {},
   "source": [
    "HalfBath (Converting the datatype from float to int)"
   ]
  },
  {
   "cell_type": "code",
   "execution_count": 151,
   "metadata": {},
   "outputs": [],
   "source": [
    "dataset['HalfBath'] = pd.to_numeric(dataset['HalfBath']).astype(int)"
   ]
  },
  {
   "cell_type": "code",
   "execution_count": 152,
   "metadata": {},
   "outputs": [
    {
     "name": "stdout",
     "output_type": "stream",
     "text": [
      "int32\n"
     ]
    }
   ],
   "source": [
    "print(dataset['HalfBath'].dtype)"
   ]
  },
  {
   "cell_type": "code",
   "execution_count": 153,
   "metadata": {},
   "outputs": [
    {
     "name": "stdout",
     "output_type": "stream",
     "text": [
      "<class 'pandas.core.frame.DataFrame'>\n",
      "Index: 23705 entries, 0 to 54214\n",
      "Data columns (total 22 columns):\n",
      " #   Column                Non-Null Count  Dtype         \n",
      "---  ------                --------------  -----         \n",
      " 0   UniqueID              23705 non-null  int64         \n",
      " 1   ParcelID              23705 non-null  object        \n",
      " 2   LandUse               23705 non-null  object        \n",
      " 3   PropertySplitAddress  23705 non-null  object        \n",
      " 4   PropertySplitCity     23705 non-null  object        \n",
      " 5   SaleDate              23705 non-null  datetime64[ns]\n",
      " 6   SalePrice             23705 non-null  float64       \n",
      " 7   LegalReference        23705 non-null  object        \n",
      " 8   SoldAsVacant          23705 non-null  object        \n",
      " 9   OwnerName             23705 non-null  object        \n",
      " 10  OwnerSplitAddress     23705 non-null  object        \n",
      " 11  OwnerSplitCity        23705 non-null  object        \n",
      " 12  OwnerSplitState       23705 non-null  object        \n",
      " 13  Acreage               23705 non-null  float64       \n",
      " 14  TaxDistrict           23705 non-null  object        \n",
      " 15  LandValue             23705 non-null  float64       \n",
      " 16  BuildingValue         23705 non-null  float64       \n",
      " 17  TotalValue            23705 non-null  float64       \n",
      " 18  YearBuilt             23705 non-null  int32         \n",
      " 19  Bedrooms              23705 non-null  int32         \n",
      " 20  FullBath              23705 non-null  int32         \n",
      " 21  HalfBath              23705 non-null  int32         \n",
      "dtypes: datetime64[ns](1), float64(5), int32(4), int64(1), object(11)\n",
      "memory usage: 3.8+ MB\n"
     ]
    }
   ],
   "source": [
    "dataset.info()"
   ]
  },
  {
   "cell_type": "markdown",
   "metadata": {},
   "source": [
    "Delete Unused Column(s) like PropertyAddress, OwnerAddress, TaxDistrict\n",
    "(PropertyAddress and OwnerAddress columns are already deleted)"
   ]
  },
  {
   "cell_type": "code",
   "execution_count": 154,
   "metadata": {},
   "outputs": [],
   "source": [
    "dataset.drop(columns=['TaxDistrict'], inplace=True)"
   ]
  },
  {
   "cell_type": "code",
   "execution_count": 155,
   "metadata": {},
   "outputs": [
    {
     "data": {
      "text/plain": [
       "Index(['UniqueID ', 'ParcelID', 'LandUse', 'PropertySplitAddress',\n",
       "       'PropertySplitCity', 'SaleDate', 'SalePrice', 'LegalReference',\n",
       "       'SoldAsVacant', 'OwnerName', 'OwnerSplitAddress', 'OwnerSplitCity',\n",
       "       'OwnerSplitState', 'Acreage', 'LandValue', 'BuildingValue',\n",
       "       'TotalValue', 'YearBuilt', 'Bedrooms', 'FullBath', 'HalfBath'],\n",
       "      dtype='object')"
      ]
     },
     "execution_count": 155,
     "metadata": {},
     "output_type": "execute_result"
    }
   ],
   "source": [
    "dataset.columns"
   ]
  },
  {
   "cell_type": "markdown",
   "metadata": {},
   "source": [
    "Identifying and Handling Duplicates if any"
   ]
  },
  {
   "cell_type": "code",
   "execution_count": 156,
   "metadata": {},
   "outputs": [
    {
     "name": "stdout",
     "output_type": "stream",
     "text": [
      "0\n"
     ]
    }
   ],
   "source": [
    "# checking for duplicates if any\n",
    "duplicates = dataset.duplicated().sum()\n",
    "print(duplicates)"
   ]
  },
  {
   "cell_type": "markdown",
   "metadata": {},
   "source": [
    "Identifying and Handling Outliers if any"
   ]
  },
  {
   "cell_type": "code",
   "execution_count": 157,
   "metadata": {},
   "outputs": [
    {
     "name": "stdout",
     "output_type": "stream",
     "text": [
      "Lower Bound =  -174850.0\n",
      "Upper Bound =  624750.0\n",
      "1223      728000.0\n",
      "2616      629000.0\n",
      "2839     1200000.0\n",
      "4329     1100000.0\n",
      "4330      975000.0\n",
      "           ...    \n",
      "47093     650000.0\n",
      "47095     710000.0\n",
      "47409     727500.0\n",
      "51146     775000.0\n",
      "54068     983648.0\n",
      "Name: SalePrice, Length: 1710, dtype: float64\n",
      "Total Outliers =  1710\n"
     ]
    }
   ],
   "source": [
    "# Identifying outliers using Descriptive Statistics (InterQuartile Range) \n",
    "# 1) For SalePrice\n",
    "import numpy as np\n",
    "\n",
    "# Identify outliers in a column\n",
    "Q1 = dataset['SalePrice'].quantile(0.25)\n",
    "Q3 = dataset['SalePrice'].quantile(0.75)\n",
    "IQR = Q3 - Q1\n",
    "\n",
    "# Define the lower and upper bounds\n",
    "lower_bound = Q1 - 1.5 * IQR\n",
    "upper_bound = Q3 + 1.5 * IQR\n",
    "\n",
    "print(\"Lower Bound = \",lower_bound)\n",
    "print(\"Upper Bound = \",upper_bound)\n",
    "\n",
    "# Find outliers\n",
    "outliers_l_a = (dataset['SalePrice'] < lower_bound) | (dataset['SalePrice'] > upper_bound)\n",
    "outliers = dataset['SalePrice'][outliers_l_a]\n",
    "print(outliers)\n",
    "\n",
    "total_outliers = np.sum(outliers_l_a)\n",
    "print(\"Total Outliers = \",total_outliers)"
   ]
  },
  {
   "cell_type": "code",
   "execution_count": 158,
   "metadata": {},
   "outputs": [],
   "source": [
    "# Handling outliers using mean\n",
    "mean = round(dataset['SalePrice'].mean())\n",
    "dataset['SalePrice'] = dataset['SalePrice'].apply(lambda x: mean if x < lower_bound or x > upper_bound else x)\n",
    "# print(mean)"
   ]
  },
  {
   "cell_type": "code",
   "execution_count": 159,
   "metadata": {},
   "outputs": [
    {
     "name": "stdout",
     "output_type": "stream",
     "text": [
      "Series([], Name: SalePrice, dtype: float64)\n",
      "Total Outliers =  0\n"
     ]
    }
   ],
   "source": [
    "# Checking whether the outliers are handled\n",
    "outliers_l_a = (dataset['SalePrice'] < lower_bound) | (dataset['SalePrice'] > upper_bound)\n",
    "outliers = dataset['SalePrice'][outliers_l_a]\n",
    "print(outliers)\n",
    "\n",
    "total_outliers = np.sum(outliers_l_a)\n",
    "print(\"Total Outliers = \",total_outliers)"
   ]
  },
  {
   "cell_type": "code",
   "execution_count": 160,
   "metadata": {},
   "outputs": [
    {
     "name": "stdout",
     "output_type": "stream",
     "text": [
      "Lower Bound =  -0.2\n",
      "Upper Bound =  0.8400000000000001\n",
      "0        2.30\n",
      "1        3.50\n",
      "2        2.90\n",
      "3        2.60\n",
      "4        2.00\n",
      "         ... \n",
      "54209    3.00\n",
      "54210    3.00\n",
      "54211    3.00\n",
      "54212    3.03\n",
      "54213    1.03\n",
      "Name: Acreage, Length: 3132, dtype: float64\n",
      "Total Outliers =  3132\n"
     ]
    }
   ],
   "source": [
    "# 2) For Acreage\n",
    "# Identify outliers in a column\n",
    "import numpy as np\n",
    "\n",
    "Q1 = dataset['Acreage'].quantile(0.25)\n",
    "Q3 = dataset['Acreage'].quantile(0.75)\n",
    "IQR = Q3 - Q1\n",
    "\n",
    "# Define the lower and upper bounds\n",
    "lower_bound = Q1 - 1.5 * IQR\n",
    "upper_bound = Q3 + 1.5 * IQR\n",
    "\n",
    "print(\"Lower Bound = \",lower_bound)\n",
    "print(\"Upper Bound = \",upper_bound)\n",
    "\n",
    "# Find outliers\n",
    "outliers_l_a = (dataset['Acreage'] < lower_bound) | (dataset['Acreage'] > upper_bound)\n",
    "outliers = dataset['Acreage'][outliers_l_a]\n",
    "print(outliers)\n",
    "\n",
    "total_outliers = np.sum(outliers_l_a)\n",
    "print(\"Total Outliers = \",total_outliers)\n"
   ]
  },
  {
   "cell_type": "code",
   "execution_count": 161,
   "metadata": {},
   "outputs": [],
   "source": [
    "# Handling outliers using mean\n",
    "mean = round(dataset['Acreage'].mean(),2)\n",
    "dataset['Acreage'] = dataset['Acreage'].apply(lambda x: mean if x < lower_bound or x > upper_bound else x)\n",
    "# print(mean)"
   ]
  },
  {
   "cell_type": "code",
   "execution_count": 162,
   "metadata": {},
   "outputs": [
    {
     "name": "stdout",
     "output_type": "stream",
     "text": [
      "Series([], Name: Acreage, dtype: float64)\n",
      "Total Outliers =  0\n"
     ]
    }
   ],
   "source": [
    "# Checking whether the outliers are handled\n",
    "outliers_l_a = (dataset['Acreage'] < lower_bound) | (dataset['Acreage'] > upper_bound)\n",
    "outliers = dataset['Acreage'][outliers_l_a]\n",
    "print(outliers)\n",
    "\n",
    "total_outliers = np.sum(outliers_l_a)\n",
    "print(\"Total Outliers = \",total_outliers)"
   ]
  },
  {
   "cell_type": "code",
   "execution_count": 163,
   "metadata": {},
   "outputs": [
    {
     "name": "stdout",
     "output_type": "stream",
     "text": [
      "Lower Bound =  -35450.0\n",
      "Upper Bound =  117750.0\n",
      "3228     154400.0\n",
      "4182     249000.0\n",
      "4324     200000.0\n",
      "4325     400000.0\n",
      "4326     140000.0\n",
      "           ...   \n",
      "47093    200000.0\n",
      "47095    200000.0\n",
      "50769    145500.0\n",
      "50770    156000.0\n",
      "50781    130600.0\n",
      "Name: LandValue, Length: 4299, dtype: float64\n",
      "Total Outliers =  4299\n"
     ]
    }
   ],
   "source": [
    "# 5) For LandValue\n",
    "import numpy as np\n",
    "\n",
    "# Identify outliers in a column\n",
    "Q1 = dataset['LandValue'].quantile(0.25)\n",
    "Q3 = dataset['LandValue'].quantile(0.75)\n",
    "IQR = Q3 - Q1\n",
    "\n",
    "# Define the lower and upper bounds\n",
    "lower_bound = Q1 - 1.5 * IQR\n",
    "upper_bound = Q3 + 1.5 * IQR\n",
    "\n",
    "print(\"Lower Bound = \",lower_bound)\n",
    "print(\"Upper Bound = \",upper_bound)\n",
    "\n",
    "# Find outliers\n",
    "outliers_l_a = (dataset['LandValue'] < lower_bound) | (dataset['LandValue'] > upper_bound)\n",
    "outliers = dataset['LandValue'][outliers_l_a]\n",
    "print(outliers)\n",
    "\n",
    "total_outliers = np.sum(outliers_l_a)\n",
    "print(\"Total Outliers = \",total_outliers)"
   ]
  },
  {
   "cell_type": "code",
   "execution_count": 164,
   "metadata": {},
   "outputs": [],
   "source": [
    "# Handling outliers using mean\n",
    "mean = round(dataset['LandValue'].mean())\n",
    "dataset['LandValue'] = dataset['LandValue'].apply(lambda x: mean if x < lower_bound or x > upper_bound else x)\n",
    "# print(mean)"
   ]
  },
  {
   "cell_type": "code",
   "execution_count": 165,
   "metadata": {},
   "outputs": [
    {
     "name": "stdout",
     "output_type": "stream",
     "text": [
      "Series([], Name: LandValue, dtype: float64)\n",
      "Total Outliers =  0\n"
     ]
    }
   ],
   "source": [
    "# Checking whether the outliers are handled\n",
    "outliers_l_a = (dataset['LandValue'] < lower_bound) | (dataset['LandValue'] > upper_bound)\n",
    "outliers = dataset['LandValue'][outliers_l_a]\n",
    "print(outliers)\n",
    "\n",
    "total_outliers = np.sum(outliers_l_a)\n",
    "print(\"Total Outliers = \",total_outliers)"
   ]
  },
  {
   "cell_type": "code",
   "execution_count": 166,
   "metadata": {},
   "outputs": [
    {
     "name": "stdout",
     "output_type": "stream",
     "text": [
      "Lower Bound =  -74050.0\n",
      "Upper Bound =  347150.0\n",
      "168      390300.0\n",
      "435      352800.0\n",
      "2442     436000.0\n",
      "2443     436000.0\n",
      "2444     358600.0\n",
      "           ...   \n",
      "51001    382900.0\n",
      "51002    365200.0\n",
      "51074    351300.0\n",
      "51146    519900.0\n",
      "51199    391200.0\n",
      "Name: BuildingValue, Length: 2017, dtype: float64\n",
      "Total Outliers =  2017\n"
     ]
    }
   ],
   "source": [
    "# 5) For BuildingValue\n",
    "import numpy as np\n",
    "\n",
    "# Identify outliers in a column\n",
    "Q1 = dataset['BuildingValue'].quantile(0.25)\n",
    "Q3 = dataset['BuildingValue'].quantile(0.75)\n",
    "IQR = Q3 - Q1\n",
    "\n",
    "# Define the lower and upper bounds\n",
    "lower_bound = Q1 - 1.5 * IQR\n",
    "upper_bound = Q3 + 1.5 * IQR\n",
    "\n",
    "print(\"Lower Bound = \",lower_bound)\n",
    "print(\"Upper Bound = \",upper_bound)\n",
    "\n",
    "# Find outliers\n",
    "outliers_l_a = (dataset['BuildingValue'] < lower_bound) | (dataset['BuildingValue'] > upper_bound)\n",
    "outliers = dataset['BuildingValue'][outliers_l_a]\n",
    "print(outliers)\n",
    "\n",
    "total_outliers = np.sum(outliers_l_a)\n",
    "print(\"Total Outliers = \",total_outliers)"
   ]
  },
  {
   "cell_type": "code",
   "execution_count": 167,
   "metadata": {},
   "outputs": [],
   "source": [
    "# Handling outliers using mean\n",
    "mean = round(dataset['BuildingValue'].mean())\n",
    "dataset['BuildingValue'] = dataset['BuildingValue'].apply(lambda x: mean if x < lower_bound or x > upper_bound else x)\n",
    "# print(mean)"
   ]
  },
  {
   "cell_type": "code",
   "execution_count": 168,
   "metadata": {},
   "outputs": [
    {
     "name": "stdout",
     "output_type": "stream",
     "text": [
      "Series([], Name: BuildingValue, dtype: float64)\n",
      "Total Outliers =  0\n"
     ]
    }
   ],
   "source": [
    "# Checking whether the outliers are handled\n",
    "outliers_l_a = (dataset['BuildingValue'] < lower_bound) | (dataset['BuildingValue'] > upper_bound)\n",
    "outliers = dataset['BuildingValue'][outliers_l_a]\n",
    "print(outliers)\n",
    "\n",
    "total_outliers = np.sum(outliers_l_a)\n",
    "print(\"Total Outliers = \",total_outliers)"
   ]
  },
  {
   "cell_type": "code",
   "execution_count": 169,
   "metadata": {},
   "outputs": [
    {
     "name": "stdout",
     "output_type": "stream",
     "text": [
      "Lower Bound =  1.5\n",
      "Upper Bound =  5.5\n",
      "197      0\n",
      "202      6\n",
      "254      8\n",
      "435      6\n",
      "682      6\n",
      "        ..\n",
      "48717    6\n",
      "48775    6\n",
      "48789    8\n",
      "48911    6\n",
      "51073    7\n",
      "Name: Bedrooms, Length: 426, dtype: int32\n",
      "Total Outliers =  426\n"
     ]
    }
   ],
   "source": [
    "# 5) For Bedrooms\n",
    "import numpy as np\n",
    "\n",
    "# Identify outliers in a column\n",
    "Q1 = dataset['Bedrooms'].quantile(0.25)\n",
    "Q3 = dataset['Bedrooms'].quantile(0.75)\n",
    "IQR = Q3 - Q1\n",
    "\n",
    "# Define the lower and upper bounds\n",
    "lower_bound = Q1 - 1.5 * IQR\n",
    "upper_bound = Q3 + 1.5 * IQR\n",
    "\n",
    "print(\"Lower Bound = \",lower_bound)\n",
    "print(\"Upper Bound = \",upper_bound)\n",
    "\n",
    "# Find outliers\n",
    "outliers_l_a = (dataset['Bedrooms'] < lower_bound) | (dataset['Bedrooms'] > upper_bound)\n",
    "outliers = dataset['Bedrooms'][outliers_l_a]\n",
    "print(outliers)\n",
    "\n",
    "total_outliers = np.sum(outliers_l_a)\n",
    "print(\"Total Outliers = \",total_outliers)"
   ]
  },
  {
   "cell_type": "code",
   "execution_count": 170,
   "metadata": {},
   "outputs": [],
   "source": [
    "# Handling outliers using median\n",
    "median = dataset['Bedrooms'].median()\n",
    "dataset['Bedrooms'] = dataset['Bedrooms'].apply(lambda x: median if x < lower_bound or x > upper_bound else x)\n",
    "# print(median)"
   ]
  },
  {
   "cell_type": "code",
   "execution_count": 171,
   "metadata": {},
   "outputs": [
    {
     "name": "stdout",
     "output_type": "stream",
     "text": [
      "Series([], Name: Bedrooms, dtype: float64)\n",
      "Total Outliers =  0\n"
     ]
    }
   ],
   "source": [
    "outliers_l_a = (dataset['Bedrooms'] < lower_bound) | (dataset['Bedrooms'] > upper_bound)\n",
    "outliers = dataset['Bedrooms'][outliers_l_a]\n",
    "print(outliers)\n",
    "\n",
    "total_outliers = np.sum(outliers_l_a)\n",
    "print(\"Total Outliers = \",total_outliers)"
   ]
  },
  {
   "cell_type": "code",
   "execution_count": 172,
   "metadata": {},
   "outputs": [
    {
     "name": "stdout",
     "output_type": "stream",
     "text": [
      "Lower Bound =  -0.5\n",
      "Upper Bound =  3.5\n",
      "13       4\n",
      "21       4\n",
      "30       4\n",
      "147      4\n",
      "167      5\n",
      "        ..\n",
      "51146    4\n",
      "51199    4\n",
      "51211    4\n",
      "52168    4\n",
      "54209    4\n",
      "Name: FullBath, Length: 1417, dtype: int32\n",
      "Total Outliers =  1417\n"
     ]
    }
   ],
   "source": [
    "# 6) For FullBath\n",
    "import numpy as np\n",
    "\n",
    "# Identify outliers in a column\n",
    "Q1 = dataset['FullBath'].quantile(0.25)\n",
    "Q3 = dataset['FullBath'].quantile(0.75)\n",
    "IQR = Q3 - Q1\n",
    "\n",
    "# Define the lower and upper bounds\n",
    "lower_bound = Q1 - 1.5 * IQR\n",
    "upper_bound = Q3 + 1.5 * IQR\n",
    "\n",
    "print(\"Lower Bound = \",lower_bound)\n",
    "print(\"Upper Bound = \",upper_bound)\n",
    "\n",
    "# Find outliers\n",
    "outliers_l_a = (dataset['FullBath'] < lower_bound) | (dataset['FullBath'] > upper_bound)\n",
    "outliers = dataset['FullBath'][outliers_l_a]\n",
    "print(outliers)\n",
    "\n",
    "total_outliers = np.sum(outliers_l_a)\n",
    "print(\"Total Outliers = \",total_outliers)"
   ]
  },
  {
   "cell_type": "code",
   "execution_count": 173,
   "metadata": {},
   "outputs": [],
   "source": [
    "median = dataset['FullBath'].median()\n",
    "dataset['FullBath'] = dataset['FullBath'].apply(lambda x: median if x < lower_bound or x > upper_bound else x)\n",
    "# print(median)"
   ]
  },
  {
   "cell_type": "code",
   "execution_count": 174,
   "metadata": {},
   "outputs": [
    {
     "name": "stdout",
     "output_type": "stream",
     "text": [
      "Series([], Name: FullBath, dtype: float64)\n",
      "Total Outliers =  0\n"
     ]
    }
   ],
   "source": [
    "outliers_l_a = (dataset['FullBath'] < lower_bound) | (dataset['FullBath'] > upper_bound)\n",
    "outliers = dataset['FullBath'][outliers_l_a]\n",
    "print(outliers)\n",
    "\n",
    "total_outliers = np.sum(outliers_l_a)\n",
    "print(\"Total Outliers = \",total_outliers)"
   ]
  },
  {
   "cell_type": "code",
   "execution_count": 175,
   "metadata": {},
   "outputs": [
    {
     "name": "stdout",
     "output_type": "stream",
     "text": [
      "Lower Bound =  -1.5\n",
      "Upper Bound =  2.5\n",
      "15881    3\n",
      "25311    3\n",
      "25853    3\n",
      "30833    3\n",
      "31444    3\n",
      "31499    3\n",
      "31502    3\n",
      "31546    3\n",
      "31547    3\n",
      "32426    3\n",
      "35892    3\n",
      "35893    3\n",
      "36609    3\n",
      "37120    3\n",
      "37647    3\n",
      "37937    3\n",
      "37938    3\n",
      "38168    3\n",
      "42249    3\n",
      "42253    3\n",
      "42254    3\n",
      "42275    3\n",
      "42402    3\n",
      "42490    3\n",
      "46882    3\n",
      "Name: HalfBath, dtype: int32\n",
      "Total Outliers =  25\n"
     ]
    }
   ],
   "source": [
    "# 5) For HalfBath\n",
    "import numpy as np\n",
    "\n",
    "# Identify outliers in a column\n",
    "Q1 = dataset['HalfBath'].quantile(0.25)\n",
    "Q3 = dataset['HalfBath'].quantile(0.75)\n",
    "IQR = Q3 - Q1\n",
    "\n",
    "# Define the lower and upper bounds\n",
    "lower_bound = Q1 - 1.5 * IQR\n",
    "upper_bound = Q3 + 1.5 * IQR\n",
    "\n",
    "print(\"Lower Bound = \",lower_bound)\n",
    "print(\"Upper Bound = \",upper_bound)\n",
    "\n",
    "# Find outliers\n",
    "outliers_l_a = (dataset['HalfBath'] < lower_bound) | (dataset['HalfBath'] > upper_bound)\n",
    "outliers = dataset['HalfBath'][outliers_l_a]\n",
    "print(outliers)\n",
    "\n",
    "total_outliers = np.sum(outliers_l_a)\n",
    "print(\"Total Outliers = \",total_outliers)"
   ]
  },
  {
   "cell_type": "code",
   "execution_count": 176,
   "metadata": {},
   "outputs": [],
   "source": [
    "median = dataset['HalfBath'].median()\n",
    "dataset['HalfBath'] = dataset['HalfBath'].apply(lambda x: median if x < lower_bound or x > upper_bound else x)\n",
    "# print(median)"
   ]
  },
  {
   "cell_type": "code",
   "execution_count": 177,
   "metadata": {},
   "outputs": [
    {
     "name": "stdout",
     "output_type": "stream",
     "text": [
      "Series([], Name: HalfBath, dtype: float64)\n",
      "Total Outliers =  0\n"
     ]
    }
   ],
   "source": [
    "outliers_l_a = (dataset['HalfBath'] < lower_bound) | (dataset['HalfBath'] > upper_bound)\n",
    "outliers = dataset['HalfBath'][outliers_l_a]\n",
    "print(outliers)\n",
    "\n",
    "total_outliers = np.sum(outliers_l_a)\n",
    "print(\"Total Outliers = \",total_outliers)"
   ]
  },
  {
   "cell_type": "code",
   "execution_count": 178,
   "metadata": {},
   "outputs": [],
   "source": [
    "dataset.to_csv('HousingData_Cleaned.csv', index=False)"
   ]
  }
 ],
 "metadata": {
  "kernelspec": {
   "display_name": "Python 3",
   "language": "python",
   "name": "python3"
  },
  "language_info": {
   "codemirror_mode": {
    "name": "ipython",
    "version": 3
   },
   "file_extension": ".py",
   "mimetype": "text/x-python",
   "name": "python",
   "nbconvert_exporter": "python",
   "pygments_lexer": "ipython3",
   "version": "3.11.5"
  }
 },
 "nbformat": 4,
 "nbformat_minor": 2
}
